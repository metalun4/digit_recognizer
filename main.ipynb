{
 "cells": [
  {
   "cell_type": "code",
   "execution_count": 1,
   "metadata": {
    "collapsed": true
   },
   "outputs": [],
   "source": [
    "import os\n",
    "import numpy as np\n",
    "import pandas as pd\n",
    "import tensorflow as tf\n",
    "import matplotlib.pyplot as plt\n",
    "\n",
    "from keras import Model, layers, optimizers, callbacks\n",
    "\n",
    "from sklearn.model_selection import train_test_split"
   ]
  },
  {
   "cell_type": "code",
   "execution_count": 2,
   "outputs": [],
   "source": [
    "train_data = pd.read_csv('data/train.csv')\n",
    "X_test = pd.read_csv('data/test.csv')\n",
    "\n",
    "X_train = train_data.drop(['label'], axis=1)\n",
    "y_train = pd.get_dummies(train_data['label'])\n",
    "\n",
    "total_clf = y_train.shape[1]"
   ],
   "metadata": {
    "collapsed": false,
    "pycharm": {
     "name": "#%%\n"
    }
   }
  },
  {
   "cell_type": "code",
   "execution_count": 3,
   "outputs": [
    {
     "data": {
      "text/plain": "(42000, 28, 28, 1)"
     },
     "execution_count": 3,
     "metadata": {},
     "output_type": "execute_result"
    }
   ],
   "source": [
    "X_train = X_train / 255\n",
    "X_test = X_test / 255\n",
    "\n",
    "X_train = X_train.values.reshape(-1,28,28,1)\n",
    "X_test = X_test.values.reshape(-1,28,28,1)\n",
    "\n",
    "X_train.shape"
   ],
   "metadata": {
    "collapsed": false,
    "pycharm": {
     "name": "#%%\n"
    }
   }
  },
  {
   "cell_type": "code",
   "execution_count": 4,
   "outputs": [],
   "source": [
    "X_train, X_val, y_train, y_val = train_test_split(X_train, y_train, test_size=0.1, random_state=31)"
   ],
   "metadata": {
    "collapsed": false,
    "pycharm": {
     "name": "#%%\n"
    }
   }
  },
  {
   "cell_type": "code",
   "execution_count": 5,
   "outputs": [
    {
     "data": {
      "text/plain": "<matplotlib.image.AxesImage at 0x1979e48eee0>"
     },
     "execution_count": 5,
     "metadata": {},
     "output_type": "execute_result"
    },
    {
     "data": {
      "text/plain": "<Figure size 640x480 with 1 Axes>",
      "image/png": "[encoded data removed]"
     },
     "metadata": {},
     "output_type": "display_data"
    }
   ],
   "source": [
    "plt.imshow(X_train[0][:,:,0])"
   ],
   "metadata": {
    "collapsed": false,
    "pycharm": {
     "name": "#%%\n"
    }
   }
  },
  {
   "cell_type": "code",
   "execution_count": 6,
   "outputs": [
    {
     "name": "stdout",
     "output_type": "stream",
     "text": [
      "Model: \"model\"\n",
      "_________________________________________________________________\n",
      " Layer (type)                Output Shape              Param #   \n",
      "=================================================================\n",
      " input_1 (InputLayer)        [(None, 28, 28, 1)]       0         \n",
      "                                                                 \n",
      " conv2d (Conv2D)             (None, 28, 28, 32)        832       \n",
      "                                                                 \n",
      " conv2d_1 (Conv2D)           (None, 28, 28, 32)        25632     \n",
      "                                                                 \n",
      " max_pooling2d (MaxPooling2D  (None, 14, 14, 32)       0         \n",
      " )                                                               \n",
      "                                                                 \n",
      " dropout (Dropout)           (None, 14, 14, 32)        0         \n",
      "                                                                 \n",
      " conv2d_2 (Conv2D)           (None, 12, 12, 64)        18496     \n",
      "                                                                 \n",
      " conv2d_3 (Conv2D)           (None, 10, 10, 64)        36928     \n",
      "                                                                 \n",
      " max_pooling2d_1 (MaxPooling  (None, 5, 5, 64)         0         \n",
      " 2D)                                                             \n",
      "                                                                 \n",
      " dropout_1 (Dropout)         (None, 5, 5, 64)          0         \n",
      "                                                                 \n",
      " flatten (Flatten)           (None, 1600)              0         \n",
      "                                                                 \n",
      " dense (Dense)               (None, 256)               409856    \n",
      "                                                                 \n",
      " dropout_2 (Dropout)         (None, 256)               0         \n",
      "                                                                 \n",
      " dense_1 (Dense)             (None, 10)                2570      \n",
      "                                                                 \n",
      "=================================================================\n",
      "Total params: 494,314\n",
      "Trainable params: 494,314\n",
      "Non-trainable params: 0\n",
      "_________________________________________________________________\n"
     ]
    }
   ],
   "source": [
    "in_x = layers.Input(shape=(28,28,1))\n",
    "x = layers.Conv2D(32, 5, padding='same', activation='relu')(in_x)\n",
    "x = layers.Conv2D(32, 5, padding='same', activation='relu')(x)\n",
    "x = layers.MaxPooling2D()(x)\n",
    "x = layers.Dropout(0.25)(x)\n",
    "x = layers.Conv2D(64, 3, activation='relu')(x)\n",
    "x = layers.Conv2D(64, 3, activation='relu')(x)\n",
    "x = layers.MaxPooling2D(2,2)(x)\n",
    "x = layers.Dropout(0.25)(x)\n",
    "x = layers.Flatten()(x)\n",
    "x = layers.Dense(256, activation='relu')(x)\n",
    "x = layers.Dropout(.5)(x)\n",
    "out_x = layers.Dense(total_clf, activation='softmax')(x)\n",
    "\n",
    "model = Model(in_x, out_x)\n",
    "\n",
    "model.compile(optimizer='rmsprop',\n",
    "              loss='categorical_crossentropy',\n",
    "              metrics=['accuracy'])\n",
    "\n",
    "model.summary()"
   ],
   "metadata": {
    "collapsed": false,
    "pycharm": {
     "name": "#%%\n"
    }
   }
  },
  {
   "cell_type": "code",
   "execution_count": 7,
   "outputs": [],
   "source": [
    "reduceLR = callbacks.ReduceLROnPlateau(monitor='val_accuracy',\n",
    "                                       patience=3,\n",
    "                                       verbose=1,\n",
    "                                       min_lr=0.00001)\n",
    "\n",
    "es = callbacks.EarlyStopping(monitor='val_accuracy',\n",
    "                             patience=5, verbose=1, restore_best_weights=True)\n",
    "\n",
    "EPOCHS = 10\n",
    "BATCH_SIZE = 32"
   ],
   "metadata": {
    "collapsed": false,
    "pycharm": {
     "name": "#%%\n"
    }
   }
  },
  {
   "cell_type": "code",
   "execution_count": 8,
   "outputs": [],
   "source": [
    "datagen = tf.keras.preprocessing.image.ImageDataGenerator(\n",
    "        featurewise_center=False,  # set input mean to 0 over the dataset\n",
    "        samplewise_center=False,  # set each sample mean to 0\n",
    "        featurewise_std_normalization=False,  # divide inputs by std of the dataset\n",
    "        samplewise_std_normalization=False,  # divide each input by its std\n",
    "        zca_whitening=False,  # apply ZCA whitening\n",
    "        rotation_range=10,  # randomly rotate images in the range (degrees, 0 to 180)\n",
    "        zoom_range = 0.1, # Randomly zoom image\n",
    "        width_shift_range=0.1,  # randomly shift images horizontally (fraction of total width)\n",
    "        height_shift_range=0.1,  # randomly shift images vertically (fraction of total height)\n",
    "        horizontal_flip=False,  # randomly flip images\n",
    "        vertical_flip=False)  # randomly flip images\n",
    "\n",
    "dataset = datagen.flow(X_train, y_train, batch_size=BATCH_SIZE)"
   ],
   "metadata": {
    "collapsed": false,
    "pycharm": {
     "name": "#%%\n"
    }
   }
  },
  {
   "cell_type": "code",
   "execution_count": 9,
   "outputs": [
    {
     "name": "stdout",
     "output_type": "stream",
     "text": [
      "Epoch 1/10\n",
      "1182/1182 [==============================] - 13s 10ms/step - loss: 0.3606 - accuracy: 0.8860 - val_loss: 0.0420 - val_accuracy: 0.9852 - lr: 0.0010\n",
      "Epoch 2/10\n",
      "1182/1182 [==============================] - 11s 9ms/step - loss: 0.1292 - accuracy: 0.9629 - val_loss: 0.0475 - val_accuracy: 0.9850 - lr: 0.0010\n",
      "Epoch 3/10\n",
      "1182/1182 [==============================] - 11s 9ms/step - loss: 0.1014 - accuracy: 0.9711 - val_loss: 0.0240 - val_accuracy: 0.9921 - lr: 0.0010\n",
      "Epoch 4/10\n",
      "1182/1182 [==============================] - 11s 9ms/step - loss: 0.0990 - accuracy: 0.9728 - val_loss: 0.0389 - val_accuracy: 0.9860 - lr: 0.0010\n",
      "Epoch 5/10\n",
      "1182/1182 [==============================] - 12s 10ms/step - loss: 0.0928 - accuracy: 0.9744 - val_loss: 0.0516 - val_accuracy: 0.9881 - lr: 0.0010\n",
      "Epoch 6/10\n",
      "1181/1182 [============================>.] - ETA: 0s - loss: 0.0955 - accuracy: 0.9744\n",
      "Epoch 6: ReduceLROnPlateau reducing learning rate to 0.00010000000474974513.\n",
      "1182/1182 [==============================] - 11s 9ms/step - loss: 0.0954 - accuracy: 0.9744 - val_loss: 0.0298 - val_accuracy: 0.9917 - lr: 0.0010\n",
      "Epoch 7/10\n",
      "1182/1182 [==============================] - 11s 9ms/step - loss: 0.0580 - accuracy: 0.9834 - val_loss: 0.0184 - val_accuracy: 0.9945 - lr: 1.0000e-04\n",
      "Epoch 8/10\n",
      "1182/1182 [==============================] - 11s 9ms/step - loss: 0.0536 - accuracy: 0.9848 - val_loss: 0.0176 - val_accuracy: 0.9952 - lr: 1.0000e-04\n",
      "Epoch 9/10\n",
      "1182/1182 [==============================] - 11s 9ms/step - loss: 0.0517 - accuracy: 0.9864 - val_loss: 0.0186 - val_accuracy: 0.9945 - lr: 1.0000e-04\n",
      "Epoch 10/10\n",
      "1182/1182 [==============================] - 11s 9ms/step - loss: 0.0472 - accuracy: 0.9863 - val_loss: 0.0178 - val_accuracy: 0.9952 - lr: 1.0000e-04\n"
     ]
    }
   ],
   "source": [
    "H = model.fit(dataset, epochs=EPOCHS, validation_data=(X_val, y_val), callbacks=[reduceLR, es])"
   ],
   "metadata": {
    "collapsed": false,
    "pycharm": {
     "name": "#%%\n"
    }
   }
  },
  {
   "cell_type": "code",
   "execution_count": 10,
   "outputs": [
    {
     "name": "stdout",
     "output_type": "stream",
     "text": [
      "875/875 [==============================] - 2s 2ms/step\n"
     ]
    }
   ],
   "source": [
    "# predict results\n",
    "results = model.predict(X_test)\n",
    "\n",
    "# select the indix with the maximum probability\n",
    "results = np.argmax(results,axis = 1)\n",
    "\n",
    "results = pd.Series(results,name=\"Label\")"
   ],
   "metadata": {
    "collapsed": false,
    "pycharm": {
     "name": "#%%\n"
    }
   }
  },
  {
   "cell_type": "code",
   "execution_count": 11,
   "outputs": [],
   "source": [
    "submission = pd.concat([pd.Series(range(1,28001),name = \"ImageId\"),results],axis = 1)\n",
    "\n",
    "submission.to_csv(\"data/cnn_mnist.csv\",index=False)"
   ],
   "metadata": {
    "collapsed": false,
    "pycharm": {
     "name": "#%%\n"
    }
   }
  },
  {
   "cell_type": "code",
   "execution_count": null,
   "outputs": [],
   "source": [],
   "metadata": {
    "collapsed": false,
    "pycharm": {
     "name": "#%%\n"
    }
   }
  }
 ],
 "metadata": {
  "kernelspec": {
   "display_name": "Python 3",
   "language": "python",
   "name": "python3"
  },
  "language_info": {
   "codemirror_mode": {
    "name": "ipython",
    "version": 2
   },
   "file_extension": ".py",
   "mimetype": "text/x-python",
   "name": "python",
   "nbconvert_exporter": "python",
   "pygments_lexer": "ipython2",
   "version": "2.7.6"
  }
 },
 "nbformat": 4,
 "nbformat_minor": 0
}